{
 "cells": [
  {
   "cell_type": "markdown",
   "metadata": {},
   "source": [
    "# Parallel Axis Theorem\n",
    "\n",
    "Suppose a rod rotates about the axis S which is at the end of the rod. The distance between S and CM is d = L/2 where L is the total length\n",
    "\n",
    "With Parallel Axis Theorem\n",
    "\n",
    "$$I_s = I_{cm} + md^2$$\n",
    "\n",
    "$I_{cm} = \\frac{1}{12} mL^2$\n",
    "\n",
    "$$I_s = \\frac{1}{12} mL^2 + m(\\frac{L}{2})^2 = \\frac13 mL^2$$\n",
    "\n",
    "Derived ourselves\n",
    "\n",
    "Let a little mass dm at distance x from S. $dm = \\frac{m}{L}\\ dx$\n",
    "\n",
    "$$I_s = \\int_{x'=0}^{x'=L} dm. x'^2 \\ dx' = \\int_{x'=0}^{x'=L} \\frac{m}{L} x'^2\\ dx'$$\n",
    "\n",
    "$$= \\frac13 \\frac{m}{L}x'^3 |_0^L = \\frac13 mL^2$$\n",
    "\n",
    "Same as the result above\n",
    "\n",
    "\n",
    "\n",
    "# Derivation of Parallel Axis Theorem\n",
    "\n",
    "$$I_{cm} = \\int dm.(r_{cm}^\\bot)^2$$\n",
    "\n",
    "$$I_{s} = \\int dm.(r_{s}^\\bot)^2$$\n",
    "\n",
    "$$r_s^\\bot = d + r_{cm,x}$$\n",
    "\n",
    "$$(r_s^\\bot)^2 = d^2 + 2dr_{cm,x} + r_{cm,x}^2$$\n",
    "\n",
    "$$I_s = \\int dm(r_s^\\bot)^2 = d^2 \\int dm + 2d\\int dm.r_{cm,x} + \\int dm.r_{cm,x}^2$$\n",
    "\n",
    "We want to focus on this term $\\int dm.r_{cm,x}$\n",
    "\n",
    "From the definition of center of mass\n",
    "\n",
    "$$\\sum m_j.\\vec r_{cm,j} = \\vec 0$$\n",
    "\n",
    "$$\\int dm.\\vec r_{cm} = \\vec 0$$\n",
    "\n",
    "$$\\int dm.r_{cm,x} = 0$$\n",
    "\n",
    "So this term is zero. Collect the other two terms\n",
    "\n",
    "$$I_s = md^2 + I_{cm}$$"
   ]
  },
  {
   "cell_type": "code",
   "execution_count": null,
   "metadata": {},
   "outputs": [],
   "source": []
  }
 ],
 "metadata": {
  "kernelspec": {
   "display_name": "Julia 1.5.0",
   "language": "julia",
   "name": "julia-1.5"
  },
  "language_info": {
   "file_extension": ".jl",
   "mimetype": "application/julia",
   "name": "julia",
   "version": "1.5.0"
  }
 },
 "nbformat": 4,
 "nbformat_minor": 4
}
